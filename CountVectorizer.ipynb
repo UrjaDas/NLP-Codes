{
 "cells": [
  {
   "cell_type": "markdown",
   "id": "85b3b6c4",
   "metadata": {},
   "source": [
    "### BBC Documents Classification\n",
    "\n",
    "This is a supervised learning task where the news documents are classified into five different categories which are 'business', 'entertainment', 'politics ', 'sport', 'tech'. Here CountVectorizer is used to convert text into vector. There are 4 variations of CountVectorizer used. (1) Normal CountVectorizer along with incorporating default english stopwords. (2) CountVectorizer is used with tokenization done through lemmatization and automatic parts of speech tagging using an inbuilt pos_tag in nltk. (3) CountVectorizer is used with tokenization done through stemming. (4) CountVectorizer with simple string split as tokenization method is used. \n",
    "\n",
    "Accuracy of all the four models are determined to evaluate the performance of each variation. Although lemmatization is a sophisticated way of tokenization, it did not perform better than other variations. A simple string split performed really good so it suggests that a simple string split as tokenization can do good. "
   ]
  },
  {
   "cell_type": "markdown",
   "id": "c4e6619d",
   "metadata": {},
   "source": [
    "### Import Required Libraries"
   ]
  },
  {
   "cell_type": "code",
   "execution_count": 53,
   "id": "fa99bdc7",
   "metadata": {},
   "outputs": [],
   "source": [
    "import pandas as pd\n",
    "import numpy as np\n",
    "import seaborn as sns\n",
    "import nltk"
   ]
  },
  {
   "cell_type": "markdown",
   "id": "1fae7980",
   "metadata": {},
   "source": [
    "### Import Scikit Libraries"
   ]
  },
  {
   "cell_type": "code",
   "execution_count": 54,
   "id": "029b3184",
   "metadata": {},
   "outputs": [],
   "source": [
    "from sklearn.feature_extraction.text import CountVectorizer\n",
    "from sklearn.model_selection import train_test_split\n",
    "from sklearn.naive_bayes import MultinomialNB"
   ]
  },
  {
   "cell_type": "markdown",
   "id": "f856ff45",
   "metadata": {},
   "source": [
    "### Import nltk Libraries"
   ]
  },
  {
   "cell_type": "code",
   "execution_count": 55,
   "id": "144c6e2f",
   "metadata": {},
   "outputs": [],
   "source": [
    "from nltk.stem import PorterStemmer, WordNetLemmatizer\n",
    "from nltk.tokenize import word_tokenize\n",
    "from nltk.corpus import wordnet"
   ]
  },
  {
   "cell_type": "markdown",
   "id": "9b702f92",
   "metadata": {},
   "source": [
    "### Download"
   ]
  },
  {
   "cell_type": "code",
   "execution_count": 73,
   "id": "23cd8ec6",
   "metadata": {},
   "outputs": [
    {
     "name": "stderr",
     "output_type": "stream",
     "text": [
      "[nltk_data] Downloading package wordnet to C:\\Users\\ishid/nltk_data...\n",
      "[nltk_data]   Package wordnet is already up-to-date!\n",
      "[nltk_data] Downloading package averaged_perceptron_tagger to\n",
      "[nltk_data]     C:\\Users\\ishid/nltk_data...\n",
      "[nltk_data]   Package averaged_perceptron_tagger is already up-to-\n",
      "[nltk_data]       date!\n",
      "[nltk_data] Downloading package punkt to C:\\Users\\ishid/nltk_data...\n",
      "[nltk_data]   Package punkt is already up-to-date!\n",
      "[nltk_data] Downloading package omw-1.4 to C:\\Users\\ishid/nltk_data...\n"
     ]
    },
    {
     "data": {
      "text/plain": [
       "True"
      ]
     },
     "execution_count": 73,
     "metadata": {},
     "output_type": "execute_result"
    }
   ],
   "source": [
    "nltk.download('wordnet')\n",
    "nltk.download('averaged_perceptron_tagger')\n",
    "nltk.download('punkt')\n",
    "nltk.download('omw-1.4')"
   ]
  },
  {
   "cell_type": "markdown",
   "id": "f31b6bf5",
   "metadata": {},
   "source": [
    "### Load the Dataset"
   ]
  },
  {
   "cell_type": "code",
   "execution_count": 57,
   "id": "f0a0ef14",
   "metadata": {},
   "outputs": [],
   "source": [
    "df = pd.read_csv('bbc_text_cls.csv')"
   ]
  },
  {
   "cell_type": "code",
   "execution_count": 58,
   "id": "7c9298a1",
   "metadata": {},
   "outputs": [
    {
     "data": {
      "text/html": [
       "<div>\n",
       "<style scoped>\n",
       "    .dataframe tbody tr th:only-of-type {\n",
       "        vertical-align: middle;\n",
       "    }\n",
       "\n",
       "    .dataframe tbody tr th {\n",
       "        vertical-align: top;\n",
       "    }\n",
       "\n",
       "    .dataframe thead th {\n",
       "        text-align: right;\n",
       "    }\n",
       "</style>\n",
       "<table border=\"1\" class=\"dataframe\">\n",
       "  <thead>\n",
       "    <tr style=\"text-align: right;\">\n",
       "      <th></th>\n",
       "      <th>text</th>\n",
       "      <th>labels</th>\n",
       "    </tr>\n",
       "  </thead>\n",
       "  <tbody>\n",
       "    <tr>\n",
       "      <th>0</th>\n",
       "      <td>Ad sales boost Time Warner profit\\n\\nQuarterly...</td>\n",
       "      <td>business</td>\n",
       "    </tr>\n",
       "    <tr>\n",
       "      <th>1</th>\n",
       "      <td>Dollar gains on Greenspan speech\\n\\nThe dollar...</td>\n",
       "      <td>business</td>\n",
       "    </tr>\n",
       "    <tr>\n",
       "      <th>2</th>\n",
       "      <td>Yukos unit buyer faces loan claim\\n\\nThe owner...</td>\n",
       "      <td>business</td>\n",
       "    </tr>\n",
       "    <tr>\n",
       "      <th>3</th>\n",
       "      <td>High fuel prices hit BA's profits\\n\\nBritish A...</td>\n",
       "      <td>business</td>\n",
       "    </tr>\n",
       "    <tr>\n",
       "      <th>4</th>\n",
       "      <td>Pernod takeover talk lifts Domecq\\n\\nShares in...</td>\n",
       "      <td>business</td>\n",
       "    </tr>\n",
       "  </tbody>\n",
       "</table>\n",
       "</div>"
      ],
      "text/plain": [
       "                                                text    labels\n",
       "0  Ad sales boost Time Warner profit\\n\\nQuarterly...  business\n",
       "1  Dollar gains on Greenspan speech\\n\\nThe dollar...  business\n",
       "2  Yukos unit buyer faces loan claim\\n\\nThe owner...  business\n",
       "3  High fuel prices hit BA's profits\\n\\nBritish A...  business\n",
       "4  Pernod takeover talk lifts Domecq\\n\\nShares in...  business"
      ]
     },
     "execution_count": 58,
     "metadata": {},
     "output_type": "execute_result"
    }
   ],
   "source": [
    "df.head()"
   ]
  },
  {
   "cell_type": "code",
   "execution_count": 59,
   "id": "e338134e",
   "metadata": {},
   "outputs": [
    {
     "data": {
      "text/plain": [
       "'Ad sales boost Time Warner profit\\n\\nQuarterly profits at US media giant TimeWarner jumped 76% to $1.13bn (£600m) for the three months to December, from $639m year-earlier.\\n\\nThe firm, which is now one of the biggest investors in Google, benefited from sales of high-speed internet connections and higher advert sales. TimeWarner said fourth quarter sales rose 2% to $11.1bn from $10.9bn. Its profits were buoyed by one-off gains which offset a profit dip at Warner Bros, and less users for AOL.\\n\\nTime Warner said on Friday that it now owns 8% of search-engine Google. But its own internet business, AOL, had has mixed fortunes. It lost 464,000 subscribers in the fourth quarter profits were lower than in the preceding three quarters. However, the company said AOL\\'s underlying profit before exceptional items rose 8% on the back of stronger internet advertising revenues. It hopes to increase subscribers by offering the online service free to TimeWarner internet customers and will try to sign up AOL\\'s existing customers for high-speed broadband. TimeWarner also has to restate 2000 and 2003 results following a probe by the US Securities Exchange Commission (SEC), which is close to concluding.\\n\\nTime Warner\\'s fourth quarter profits were slightly better than analysts\\' expectations. But its film division saw profits slump 27% to $284m, helped by box-office flops Alexander and Catwoman, a sharp contrast to year-earlier, when the third and final film in the Lord of the Rings trilogy boosted results. For the full-year, TimeWarner posted a profit of $3.36bn, up 27% from its 2003 performance, while revenues grew 6.4% to $42.09bn. \"Our financial performance was strong, meeting or exceeding all of our full-year objectives and greatly enhancing our flexibility,\" chairman and chief executive Richard Parsons said. For 2005, TimeWarner is projecting operating earnings growth of around 5%, and also expects higher revenue and wider profit margins.\\n\\nTimeWarner is to restate its accounts as part of efforts to resolve an inquiry into AOL by US market regulators. It has already offered to pay $300m to settle charges, in a deal that is under review by the SEC. The company said it was unable to estimate the amount it needed to set aside for legal reserves, which it previously set at $500m. It intends to adjust the way it accounts for a deal with German music publisher Bertelsmann\\'s purchase of a stake in AOL Europe, which it had reported as advertising revenue. It will now book the sale of its stake in AOL Europe as a loss on the value of that stake.'"
      ]
     },
     "execution_count": 59,
     "metadata": {},
     "output_type": "execute_result"
    }
   ],
   "source": [
    "df.iloc[0]['text']"
   ]
  },
  {
   "cell_type": "markdown",
   "id": "bee60c2d",
   "metadata": {},
   "source": [
    "### Check if Classes are Balanced or not."
   ]
  },
  {
   "cell_type": "code",
   "execution_count": 60,
   "id": "fd014f2c",
   "metadata": {},
   "outputs": [
    {
     "data": {
      "text/plain": [
       "<Axes: xlabel='labels', ylabel='count'>"
      ]
     },
     "execution_count": 60,
     "metadata": {},
     "output_type": "execute_result"
    },
    {
     "data": {
      "image/png": "[encoded data removed]",
      "text/plain": [
       "<Figure size 640x480 with 1 Axes>"
      ]
     },
     "metadata": {},
     "output_type": "display_data"
    }
   ],
   "source": [
    "sns.countplot(data=df, x='labels')"
   ]
  },
  {
   "cell_type": "markdown",
   "id": "783321f8",
   "metadata": {},
   "source": [
    "There are five categories, namely 'business', 'entertainment', 'politics ', 'sport', 'tech'. The classes seem balanced so 'accuracy' can be used as a metric to measure the performance of a model."
   ]
  },
  {
   "cell_type": "code",
   "execution_count": 61,
   "id": "117c39b2",
   "metadata": {},
   "outputs": [],
   "source": [
    "x = df['text']\n",
    "y = df['labels']"
   ]
  },
  {
   "cell_type": "code",
   "execution_count": 62,
   "id": "3b789c71",
   "metadata": {},
   "outputs": [],
   "source": [
    "x_input, x_output, y_input, y_output = train_test_split(x, y, random_state=123)"
   ]
  },
  {
   "cell_type": "code",
   "execution_count": 63,
   "id": "7204b411",
   "metadata": {},
   "outputs": [
    {
     "data": {
      "text/plain": [
       "(1668,)"
      ]
     },
     "execution_count": 63,
     "metadata": {},
     "output_type": "execute_result"
    }
   ],
   "source": [
    "x_input.shape"
   ]
  },
  {
   "cell_type": "markdown",
   "id": "12a49a37",
   "metadata": {},
   "source": [
    "### Implementing CountVectorizer (Without any Variation) "
   ]
  },
  {
   "cell_type": "code",
   "execution_count": 64,
   "id": "3a820883",
   "metadata": {},
   "outputs": [],
   "source": [
    "vectorizer = CountVectorizer()\n",
    "x_train = vectorizer.fit_transform(x_input)\n",
    "x_test = vectorizer.transform(x_output)"
   ]
  },
  {
   "cell_type": "code",
   "execution_count": 65,
   "id": "92ffc715",
   "metadata": {},
   "outputs": [
    {
     "data": {
      "text/plain": [
       "<1668x26287 sparse matrix of type '<class 'numpy.int64'>'\n",
       "\twith 337411 stored elements in Compressed Sparse Row format>"
      ]
     },
     "execution_count": 65,
     "metadata": {},
     "output_type": "execute_result"
    }
   ],
   "source": [
    "x_train"
   ]
  },
  {
   "cell_type": "markdown",
   "id": "70e77e4e",
   "metadata": {},
   "source": [
    "Check how sparse the matrix is :"
   ]
  },
  {
   "cell_type": "code",
   "execution_count": 66,
   "id": "36426d18",
   "metadata": {},
   "outputs": [
    {
     "data": {
      "text/plain": [
       "0.007695239935415004"
      ]
     },
     "execution_count": 66,
     "metadata": {},
     "output_type": "execute_result"
    }
   ],
   "source": [
    "# To check how sparse the matrix is\n",
    "(x_train !=0).sum()/ np.prod(x_train.shape)"
   ]
  },
  {
   "cell_type": "code",
   "execution_count": 67,
   "id": "9e95362c",
   "metadata": {},
   "outputs": [
    {
     "data": {
      "text/html": [
       "<style>#sk-container-id-2 {color: black;background-color: white;}#sk-container-id-2 pre{padding: 0;}#sk-container-id-2 div.sk-toggleable {background-color: white;}#sk-container-id-2 label.sk-toggleable__label {cursor: pointer;display: block;width: 100%;margin-bottom: 0;padding: 0.3em;box-sizing: border-box;text-align: center;}#sk-container-id-2 label.sk-toggleable__label-arrow:before {content: \"▸\";float: left;margin-right: 0.25em;color: #696969;}#sk-container-id-2 label.sk-toggleable__label-arrow:hover:before {color: black;}#sk-container-id-2 div.sk-estimator:hover label.sk-toggleable__label-arrow:before {color: black;}#sk-container-id-2 div.sk-toggleable__content {max-height: 0;max-width: 0;overflow: hidden;text-align: left;background-color: #f0f8ff;}#sk-container-id-2 div.sk-toggleable__content pre {margin: 0.2em;color: black;border-radius: 0.25em;background-color: #f0f8ff;}#sk-container-id-2 input.sk-toggleable__control:checked~div.sk-toggleable__content {max-height: 200px;max-width: 100%;overflow: auto;}#sk-container-id-2 input.sk-toggleable__control:checked~label.sk-toggleable__label-arrow:before {content: \"▾\";}#sk-container-id-2 div.sk-estimator input.sk-toggleable__control:checked~label.sk-toggleable__label {background-color: #d4ebff;}#sk-container-id-2 div.sk-label input.sk-toggleable__control:checked~label.sk-toggleable__label {background-color: #d4ebff;}#sk-container-id-2 input.sk-hidden--visually {border: 0;clip: rect(1px 1px 1px 1px);clip: rect(1px, 1px, 1px, 1px);height: 1px;margin: -1px;overflow: hidden;padding: 0;position: absolute;width: 1px;}#sk-container-id-2 div.sk-estimator {font-family: monospace;background-color: #f0f8ff;border: 1px dotted black;border-radius: 0.25em;box-sizing: border-box;margin-bottom: 0.5em;}#sk-container-id-2 div.sk-estimator:hover {background-color: #d4ebff;}#sk-container-id-2 div.sk-parallel-item::after {content: \"\";width: 100%;border-bottom: 1px solid gray;flex-grow: 1;}#sk-container-id-2 div.sk-label:hover label.sk-toggleable__label {background-color: #d4ebff;}#sk-container-id-2 div.sk-serial::before {content: \"\";position: absolute;border-left: 1px solid gray;box-sizing: border-box;top: 0;bottom: 0;left: 50%;z-index: 0;}#sk-container-id-2 div.sk-serial {display: flex;flex-direction: column;align-items: center;background-color: white;padding-right: 0.2em;padding-left: 0.2em;position: relative;}#sk-container-id-2 div.sk-item {position: relative;z-index: 1;}#sk-container-id-2 div.sk-parallel {display: flex;align-items: stretch;justify-content: center;background-color: white;position: relative;}#sk-container-id-2 div.sk-item::before, #sk-container-id-2 div.sk-parallel-item::before {content: \"\";position: absolute;border-left: 1px solid gray;box-sizing: border-box;top: 0;bottom: 0;left: 50%;z-index: -1;}#sk-container-id-2 div.sk-parallel-item {display: flex;flex-direction: column;z-index: 1;position: relative;background-color: white;}#sk-container-id-2 div.sk-parallel-item:first-child::after {align-self: flex-end;width: 50%;}#sk-container-id-2 div.sk-parallel-item:last-child::after {align-self: flex-start;width: 50%;}#sk-container-id-2 div.sk-parallel-item:only-child::after {width: 0;}#sk-container-id-2 div.sk-dashed-wrapped {border: 1px dashed gray;margin: 0 0.4em 0.5em 0.4em;box-sizing: border-box;padding-bottom: 0.4em;background-color: white;}#sk-container-id-2 div.sk-label label {font-family: monospace;font-weight: bold;display: inline-block;line-height: 1.2em;}#sk-container-id-2 div.sk-label-container {text-align: center;}#sk-container-id-2 div.sk-container {/* jupyter's `normalize.less` sets `[hidden] { display: none; }` but bootstrap.min.css set `[hidden] { display: none !important; }` so we also need the `!important` here to be able to override the default hidden behavior on the sphinx rendered scikit-learn.org. See: https://github.com/scikit-learn/scikit-learn/issues/21755 */display: inline-block !important;position: relative;}#sk-container-id-2 div.sk-text-repr-fallback {display: none;}</style><div id=\"sk-container-id-2\" class=\"sk-top-container\"><div class=\"sk-text-repr-fallback\"><pre>MultinomialNB()</pre><b>In a Jupyter environment, please rerun this cell to show the HTML representation or trust the notebook. <br />On GitHub, the HTML representation is unable to render, please try loading this page with nbviewer.org.</b></div><div class=\"sk-container\" hidden><div class=\"sk-item\"><div class=\"sk-estimator sk-toggleable\"><input class=\"sk-toggleable__control sk-hidden--visually\" id=\"sk-estimator-id-2\" type=\"checkbox\" checked><label for=\"sk-estimator-id-2\" class=\"sk-toggleable__label sk-toggleable__label-arrow\">MultinomialNB</label><div class=\"sk-toggleable__content\"><pre>MultinomialNB()</pre></div></div></div></div></div>"
      ],
      "text/plain": [
       "MultinomialNB()"
      ]
     },
     "execution_count": 67,
     "metadata": {},
     "output_type": "execute_result"
    }
   ],
   "source": [
    "model= MultinomialNB()\n",
    "model.fit(x_train, y_input)"
   ]
  },
  {
   "cell_type": "code",
   "execution_count": 68,
   "id": "c403c8bd",
   "metadata": {},
   "outputs": [
    {
     "name": "stdout",
     "output_type": "stream",
     "text": [
      "Train Score:  0.9922062350119905\n",
      "Test Score:  0.9712746858168761\n"
     ]
    }
   ],
   "source": [
    "print(\"Train Score: \", model.score(x_train, y_input))\n",
    "print(\"Test Score: \", model.score(x_test, y_output))"
   ]
  },
  {
   "cell_type": "markdown",
   "id": "9e933a1e",
   "metadata": {},
   "source": [
    "### CountVectorizer (Incorporating Default English Stopwords)"
   ]
  },
  {
   "cell_type": "code",
   "execution_count": 69,
   "id": "4fc1d0bf",
   "metadata": {},
   "outputs": [
    {
     "name": "stdout",
     "output_type": "stream",
     "text": [
      "Train Score:  0.9928057553956835\n",
      "Test Score:  0.9766606822262118\n"
     ]
    }
   ],
   "source": [
    "# Lets Implement the same CountVectorizer with incorporating stopwords\n",
    "vectorizer = CountVectorizer(stop_words='english')\n",
    "x_train = vectorizer.fit_transform(x_input)\n",
    "x_test = vectorizer.transform(x_output)\n",
    "model= MultinomialNB()\n",
    "model.fit(x_train, y_input)\n",
    "print(\"Train Score: \", model.score(x_train, y_input))\n",
    "print(\"Test Score: \", model.score(x_test, y_output))"
   ]
  },
  {
   "cell_type": "markdown",
   "id": "771bc3e3",
   "metadata": {},
   "source": [
    "### CountVectorizer (Tokenization through Wordnet Lemmatization)"
   ]
  },
  {
   "cell_type": "code",
   "execution_count": 70,
   "id": "434a200f",
   "metadata": {},
   "outputs": [],
   "source": [
    "#Lets Implement Lemmatization\n",
    "def get_pos_tag(tag):\n",
    "    if tag.startswith('V'):\n",
    "        return wordnet.VERB\n",
    "    elif tag.startswith('J'):\n",
    "        return wordnet.ADJ\n",
    "    elif tag.startswith('R'):\n",
    "        return wordnet.ADV\n",
    "    elif tag.startswith('N'):\n",
    "        return wordnet.NOUN\n",
    "    else:\n",
    "        return wordnet.NOUN"
   ]
  },
  {
   "cell_type": "code",
   "execution_count": 71,
   "id": "bb0d850c",
   "metadata": {},
   "outputs": [],
   "source": [
    "def output_lemma(doc):\n",
    "    output_list=[]\n",
    "    lemmatizer= WordNetLemmatizer()\n",
    "    tokens = word_tokenize(doc)\n",
    "    word_and_tag = nltk.pos_tag(tokens)\n",
    "    for word,tag in word_and_tag:\n",
    "        lemma= lemmatizer.lemmatize(word, pos=get_pos_tag(tag))\n",
    "        output_list.append(lemma)\n",
    "    return output_list   "
   ]
  },
  {
   "cell_type": "code",
   "execution_count": 74,
   "id": "72573e1c",
   "metadata": {},
   "outputs": [
    {
     "name": "stdout",
     "output_type": "stream",
     "text": [
      "Train Score:  0.9922062350119905\n",
      "Test Score:  0.9676840215439856\n"
     ]
    }
   ],
   "source": [
    "# Lets Implement the same CountVectorizer with incorporating tokens as obtained through WordNetLemmatizer\n",
    "vectorizer = CountVectorizer(tokenizer=lambda doc:output_lemma(doc))\n",
    "x_train = vectorizer.fit_transform(x_input)\n",
    "x_test = vectorizer.transform(x_output)\n",
    "model= MultinomialNB()\n",
    "model.fit(x_train, y_input)\n",
    "print(\"Train Score: \", model.score(x_train, y_input))\n",
    "print(\"Test Score: \", model.score(x_test, y_output))"
   ]
  },
  {
   "cell_type": "markdown",
   "id": "beba791e",
   "metadata": {},
   "source": [
    "### CountVectorizer (Tokenization through Stemming)"
   ]
  },
  {
   "cell_type": "code",
   "execution_count": 75,
   "id": "665d912a",
   "metadata": {},
   "outputs": [],
   "source": [
    "def output_stemma(doc):\n",
    "    output_list=[]\n",
    "    stemmer= PorterStemmer()\n",
    "    tokens = word_tokenize(doc)\n",
    "    for word in tokens:\n",
    "        stemma= stemmer.stem(word)\n",
    "        output_list.append(stemma)\n",
    "    return output_list  "
   ]
  },
  {
   "cell_type": "code",
   "execution_count": 76,
   "id": "88b9a45b",
   "metadata": {},
   "outputs": [
    {
     "name": "stderr",
     "output_type": "stream",
     "text": [
      "C:\\ProgramData\\anaconda3\\lib\\site-packages\\sklearn\\feature_extraction\\text.py:528: UserWarning: The parameter 'token_pattern' will not be used since 'tokenizer' is not None'\n",
      "  warnings.warn(\n"
     ]
    },
    {
     "name": "stdout",
     "output_type": "stream",
     "text": [
      "Train Score:  0.9892086330935251\n",
      "Test Score:  0.9694793536804309\n"
     ]
    }
   ],
   "source": [
    "# Lets Implement the same CountVectorizer with incorporating tokens as obtained through WordNetLemmatizer\n",
    "vectorizer = CountVectorizer(tokenizer=lambda doc:output_stemma(doc))\n",
    "x_train = vectorizer.fit_transform(x_input)\n",
    "x_test = vectorizer.transform(x_output)\n",
    "model= MultinomialNB()\n",
    "model.fit(x_train, y_input)\n",
    "print(\"Train Score: \", model.score(x_train, y_input))\n",
    "print(\"Test Score: \", model.score(x_test, y_output))"
   ]
  },
  {
   "cell_type": "markdown",
   "id": "fbecef56",
   "metadata": {},
   "source": [
    "### CountVectorizer (Tokenization through String Split)"
   ]
  },
  {
   "cell_type": "code",
   "execution_count": 77,
   "id": "9b488dad",
   "metadata": {},
   "outputs": [],
   "source": [
    "def output_string(doc):\n",
    "    return doc.split()"
   ]
  },
  {
   "cell_type": "code",
   "execution_count": 78,
   "id": "01a198c8",
   "metadata": {},
   "outputs": [
    {
     "name": "stderr",
     "output_type": "stream",
     "text": [
      "C:\\ProgramData\\anaconda3\\lib\\site-packages\\sklearn\\feature_extraction\\text.py:528: UserWarning: The parameter 'token_pattern' will not be used since 'tokenizer' is not None'\n",
      "  warnings.warn(\n"
     ]
    },
    {
     "name": "stdout",
     "output_type": "stream",
     "text": [
      "Train Score:  0.9952038369304557\n",
      "Test Score:  0.9712746858168761\n"
     ]
    }
   ],
   "source": [
    "# Lets Implement the same CountVectorizer with incorporating tokens as obtained through WordNetLemmatizer\n",
    "vectorizer = CountVectorizer(tokenizer=lambda doc:output_string(doc))\n",
    "x_train = vectorizer.fit_transform(x_input)\n",
    "x_test = vectorizer.transform(x_output)\n",
    "model= MultinomialNB()\n",
    "model.fit(x_train, y_input)\n",
    "print(\"Train Score: \", model.score(x_train, y_input))\n",
    "print(\"Test Score: \", model.score(x_test, y_output))"
   ]
  },
  {
   "cell_type": "code",
   "execution_count": null,
   "id": "72865708",
   "metadata": {},
   "outputs": [],
   "source": []
  }
 ],
 "metadata": {
  "kernelspec": {
   "display_name": "Python 3 (ipykernel)",
   "language": "python",
   "name": "python3"
  },
  "language_info": {
   "codemirror_mode": {
    "name": "ipython",
    "version": 3
   },
   "file_extension": ".py",
   "mimetype": "text/x-python",
   "name": "python",
   "nbconvert_exporter": "python",
   "pygments_lexer": "ipython3",
   "version": "3.11.5"
  }
 },
 "nbformat": 4,
 "nbformat_minor": 5
}
