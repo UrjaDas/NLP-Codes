{
  "nbformat": 4,
  "nbformat_minor": 0,
  "metadata": {
    "colab": {
      "provenance": []
    },
    "kernelspec": {
      "name": "python3",
      "display_name": "Python 3"
    },
    "language_info": {
      "name": "python"
    }
  },
  "cells": [
    {
      "cell_type": "markdown",
      "source": [
        "## Word Analogies using Word Embedding through Pretained Word2Vec."
      ],
      "metadata": {
        "id": "7xOg4I0x9J39"
      }
    },
    {
      "cell_type": "markdown",
      "source": [
        "First, download the pretrained word embeddings. These models require to be trained on large datasets so we shouldn't bother to replicate the same work when we can access the pretrained model. Modern models like transformers can't be trained by us, training such models involves millions of dollars. The situation isn't so severe in the case of embedding models but still using pretrained models are preferred."
      ],
      "metadata": {
        "id": "LqWb3gYV8qZV"
      }
    },
    {
      "cell_type": "code",
      "execution_count": 1,
      "metadata": {
        "colab": {
          "base_uri": "https://localhost:8080/"
        },
        "id": "ld2y6vcnGCz8",
        "outputId": "83dd29d1-4c13-408c-df8c-4a44edeb19b5"
      },
      "outputs": [
        {
          "output_type": "stream",
          "name": "stdout",
          "text": [
            "--2024-02-11 14:44:55--  https://archive.org/download/google-news-vectors-negative-300.bin_202311/GoogleNews-vectors-negative300.bin.gz\n",
            "Resolving archive.org (archive.org)... 207.241.224.2\n",
            "Connecting to archive.org (archive.org)|207.241.224.2|:443... connected.\n",
            "HTTP request sent, awaiting response... 302 Found\n",
            "Location: https://ia601203.us.archive.org/18/items/google-news-vectors-negative-300.bin_202311/GoogleNews-vectors-negative300.bin.gz [following]\n",
            "--2024-02-11 14:44:55--  https://ia601203.us.archive.org/18/items/google-news-vectors-negative-300.bin_202311/GoogleNews-vectors-negative300.bin.gz\n",
            "Resolving ia601203.us.archive.org (ia601203.us.archive.org)... 207.241.227.133\n",
            "Connecting to ia601203.us.archive.org (ia601203.us.archive.org)|207.241.227.133|:443... connected.\n",
            "HTTP request sent, awaiting response... 200 OK\n",
            "Length: 1647046227 (1.5G) [application/octet-stream]\n",
            "Saving to: ‘GoogleNews-vectors-negative300.bin.gz’\n",
            "\n",
            "GoogleNews-vectors- 100%[===================>]   1.53G  1.00MB/s    in 28m 9s  \n",
            "\n",
            "2024-02-11 15:13:05 (952 KB/s) - ‘GoogleNews-vectors-negative300.bin.gz’ saved [1647046227/1647046227]\n",
            "\n"
          ]
        }
      ],
      "source": [
        "!wget -nc https://archive.org/download/google-news-vectors-negative-300.bin_202311/GoogleNews-vectors-negative300.bin.gz"
      ]
    },
    {
      "cell_type": "markdown",
      "source": [
        "Unzip the zipped file."
      ],
      "metadata": {
        "id": "JIgdWPQi81OT"
      }
    },
    {
      "cell_type": "code",
      "source": [
        "!gunzip GoogleNews-vectors-negative300.bin.gz"
      ],
      "metadata": {
        "id": "lGYArv23GJ8_"
      },
      "execution_count": 2,
      "outputs": []
    },
    {
      "cell_type": "markdown",
      "source": [
        "Import keyed vectors from gensim. This class has the necessary API for interacting with the word embeddings we just downloaded."
      ],
      "metadata": {
        "id": "gtFTK9csKUsZ"
      }
    },
    {
      "cell_type": "code",
      "source": [
        "from gensim.models import KeyedVectors"
      ],
      "metadata": {
        "id": "HvZfQiByKTFs"
      },
      "execution_count": 3,
      "outputs": []
    },
    {
      "cell_type": "code",
      "source": [
        "word_vectors = KeyedVectors.load_word2vec_format('GoogleNews-vectors-negative300.bin', binary=True)"
      ],
      "metadata": {
        "id": "YHwyNfB8Kh2D"
      },
      "execution_count": 4,
      "outputs": []
    },
    {
      "cell_type": "markdown",
      "source": [
        "### Define a function which returns the word analogy."
      ],
      "metadata": {
        "id": "gaCktq-b86qQ"
      }
    },
    {
      "cell_type": "code",
      "source": [
        "def find_analogies(w1, w2, w3):\n",
        "  # w1 - w2 = ? - w3\n",
        "  # ? = w1 + w3 - w2\n",
        "  # Ex: king - man = ? - woman\n",
        "  # ? = king + woman - man\n",
        "    r = word_vectors.most_similar(positive = [w1, w3], negative=[w2])\n",
        "    print('%s - %s = %s - %s' % (w1, w2, r[0][0], w3))"
      ],
      "metadata": {
        "id": "6ssVYUZeK_DZ"
      },
      "execution_count": 5,
      "outputs": []
    },
    {
      "cell_type": "code",
      "source": [
        "find_analogies('king', 'man', 'woman')"
      ],
      "metadata": {
        "colab": {
          "base_uri": "https://localhost:8080/"
        },
        "id": "0LdDtmKgOi_9",
        "outputId": "5ca279ab-c3e1-4e9f-f469-29f0cd7b2abd"
      },
      "execution_count": 6,
      "outputs": [
        {
          "output_type": "stream",
          "name": "stdout",
          "text": [
            "king - man = queen - woman\n"
          ]
        }
      ]
    },
    {
      "cell_type": "code",
      "source": [
        "find_analogies('france', 'paris', 'london')"
      ],
      "metadata": {
        "colab": {
          "base_uri": "https://localhost:8080/"
        },
        "id": "nVvSnRXmOqPI",
        "outputId": "9b87bdbf-745a-48c1-be90-540b6a1ffbfc"
      },
      "execution_count": 7,
      "outputs": [
        {
          "output_type": "stream",
          "name": "stdout",
          "text": [
            "france - paris = england - london\n"
          ]
        }
      ]
    },
    {
      "cell_type": "code",
      "source": [
        "find_analogies('france', 'paris', 'rome')"
      ],
      "metadata": {
        "colab": {
          "base_uri": "https://localhost:8080/"
        },
        "id": "ckWFZy8rQWA2",
        "outputId": "117c4759-64d1-4239-af0d-536106adf68b"
      },
      "execution_count": 8,
      "outputs": [
        {
          "output_type": "stream",
          "name": "stdout",
          "text": [
            "france - paris = italy - rome\n"
          ]
        }
      ]
    },
    {
      "cell_type": "code",
      "source": [
        "find_analogies( 'paris','france', 'italy')    #Not the result we expected"
      ],
      "metadata": {
        "id": "hfKDUBUDi2Cn",
        "outputId": "06a2cc02-8a0e-477b-b9f5-815a03fb2ef3",
        "colab": {
          "base_uri": "https://localhost:8080/"
        }
      },
      "execution_count": 11,
      "outputs": [
        {
          "output_type": "stream",
          "name": "stdout",
          "text": [
            "paris - france = lohan - italy\n"
          ]
        }
      ]
    },
    {
      "cell_type": "code",
      "source": [
        "find_analogies('japan', 'japanese', 'chinese')   # Its giving the result we weren't expecting but good that its still showing a country"
      ],
      "metadata": {
        "id": "pTEwI5bA6d1Y",
        "outputId": "ec62d4e1-26ab-4ea2-b93a-692b3dd3efa8",
        "colab": {
          "base_uri": "https://localhost:8080/"
        }
      },
      "execution_count": 12,
      "outputs": [
        {
          "output_type": "stream",
          "name": "stdout",
          "text": [
            "japan - japanese = tibet - chinese\n"
          ]
        }
      ]
    },
    {
      "cell_type": "code",
      "source": [
        "find_analogies('japan', 'japanese', 'italian')"
      ],
      "metadata": {
        "id": "L97qm4SH6lrR",
        "outputId": "12620710-b50d-4edd-bbd8-4292dc0a0a07",
        "colab": {
          "base_uri": "https://localhost:8080/"
        }
      },
      "execution_count": 13,
      "outputs": [
        {
          "output_type": "stream",
          "name": "stdout",
          "text": [
            "japan - japanese = italy - italian\n"
          ]
        }
      ]
    },
    {
      "cell_type": "code",
      "source": [
        "find_analogies('december', 'november', 'june')"
      ],
      "metadata": {
        "id": "8hvk7PWa67aJ",
        "outputId": "15cdb51e-a01b-4693-ff43-2fbd7e120ff0",
        "colab": {
          "base_uri": "https://localhost:8080/"
        }
      },
      "execution_count": 14,
      "outputs": [
        {
          "output_type": "stream",
          "name": "stdout",
          "text": [
            "december - november = september - june\n"
          ]
        }
      ]
    },
    {
      "cell_type": "code",
      "source": [
        "find_analogies('miami', 'florida', 'texas')"
      ],
      "metadata": {
        "id": "PyBzCq0R7AYS",
        "outputId": "74f35a05-f64e-47a4-9e71-889baf473c4b",
        "colab": {
          "base_uri": "https://localhost:8080/"
        }
      },
      "execution_count": 15,
      "outputs": [
        {
          "output_type": "stream",
          "name": "stdout",
          "text": [
            "miami - florida = dallas - texas\n"
          ]
        }
      ]
    },
    {
      "cell_type": "code",
      "source": [
        "find_analogies('einstein', 'scientist', 'painter')"
      ],
      "metadata": {
        "id": "qmaue5nI7Q9K",
        "outputId": "a9cca1cf-c904-4d7f-c85d-b1c77661f9c7",
        "colab": {
          "base_uri": "https://localhost:8080/"
        }
      },
      "execution_count": 16,
      "outputs": [
        {
          "output_type": "stream",
          "name": "stdout",
          "text": [
            "einstein - scientist = jude - painter\n"
          ]
        }
      ]
    },
    {
      "cell_type": "code",
      "source": [
        "find_analogies('man', 'woman', 'sister')"
      ],
      "metadata": {
        "id": "MHyg1D217Uwo",
        "outputId": "9c1606cb-4f49-43ad-d93d-8fd13c1c31df",
        "colab": {
          "base_uri": "https://localhost:8080/"
        }
      },
      "execution_count": 17,
      "outputs": [
        {
          "output_type": "stream",
          "name": "stdout",
          "text": [
            "man - woman = brother - sister\n"
          ]
        }
      ]
    },
    {
      "cell_type": "code",
      "source": [
        "find_analogies('man', 'woman', 'wife')"
      ],
      "metadata": {
        "id": "hsTAYGGs7YUY",
        "outputId": "cca8524f-f131-4cd3-f67a-3a0d64180a27",
        "colab": {
          "base_uri": "https://localhost:8080/"
        }
      },
      "execution_count": 18,
      "outputs": [
        {
          "output_type": "stream",
          "name": "stdout",
          "text": [
            "man - woman = son - wife\n"
          ]
        }
      ]
    },
    {
      "cell_type": "code",
      "source": [
        "find_analogies('man', 'woman', 'mother')"
      ],
      "metadata": {
        "id": "ZHswdq607bdg",
        "outputId": "4900e467-5273-44ec-a602-1c50a01d5537",
        "colab": {
          "base_uri": "https://localhost:8080/"
        }
      },
      "execution_count": 19,
      "outputs": [
        {
          "output_type": "stream",
          "name": "stdout",
          "text": [
            "man - woman = father - mother\n"
          ]
        }
      ]
    },
    {
      "cell_type": "code",
      "source": [
        "find_analogies('nephew', 'niece', 'aunt')\n"
      ],
      "metadata": {
        "id": "uAmiCp3T7etg",
        "outputId": "1b8a5951-efc7-4d27-ceb6-314b7e52666d",
        "colab": {
          "base_uri": "https://localhost:8080/"
        }
      },
      "execution_count": 20,
      "outputs": [
        {
          "output_type": "stream",
          "name": "stdout",
          "text": [
            "nephew - niece = uncle - aunt\n"
          ]
        }
      ]
    },
    {
      "cell_type": "markdown",
      "source": [
        "### Define a function which returns the most similar words to a given word."
      ],
      "metadata": {
        "id": "1VY5nXX-7lcb"
      }
    },
    {
      "cell_type": "code",
      "source": [
        "def nearest_neighbors(w):\n",
        "  r= word_vectors.most_similar(positive = [w])\n",
        "  print(\"neighbors of: %s\" % w)\n",
        "  for word,score in r:\n",
        "    print(\"%s\" %word)\n"
      ],
      "metadata": {
        "id": "QQjUNi4j7hMc"
      },
      "execution_count": 21,
      "outputs": []
    },
    {
      "cell_type": "code",
      "source": [
        "nearest_neighbors('king')"
      ],
      "metadata": {
        "id": "OHLX_iXm8Xpp",
        "outputId": "50e7adf1-ed49-4c79-b07b-061c4c71e03a",
        "colab": {
          "base_uri": "https://localhost:8080/"
        }
      },
      "execution_count": 22,
      "outputs": [
        {
          "output_type": "stream",
          "name": "stdout",
          "text": [
            "neighbors of: king\n",
            "kings\n",
            "queen\n",
            "monarch\n",
            "crown_prince\n",
            "prince\n",
            "sultan\n",
            "ruler\n",
            "princes\n",
            "Prince_Paras\n",
            "throne\n"
          ]
        }
      ]
    },
    {
      "cell_type": "code",
      "source": [
        "nearest_neighbors('nephew')"
      ],
      "metadata": {
        "id": "w7NelPis8bFm",
        "outputId": "06cc1fcc-ccf0-423a-8c89-79b54c5ac0fa",
        "colab": {
          "base_uri": "https://localhost:8080/"
        }
      },
      "execution_count": 23,
      "outputs": [
        {
          "output_type": "stream",
          "name": "stdout",
          "text": [
            "neighbors of: nephew\n",
            "son\n",
            "uncle\n",
            "brother\n",
            "grandson\n",
            "cousin\n",
            "father\n",
            "niece\n",
            "younger_brother\n",
            "nephews\n",
            "stepson\n"
          ]
        }
      ]
    },
    {
      "cell_type": "code",
      "source": [
        "nearest_neighbors('einstein')"
      ],
      "metadata": {
        "id": "qOg_kRJ78fXG",
        "outputId": "567106b4-f3d5-4cca-c1d3-c3c241a1edc8",
        "colab": {
          "base_uri": "https://localhost:8080/"
        }
      },
      "execution_count": 24,
      "outputs": [
        {
          "output_type": "stream",
          "name": "stdout",
          "text": [
            "neighbors of: einstein\n",
            "nikki\n",
            "lmfao\n",
            "albert\n",
            "armstrong\n",
            "joan\n",
            "becky\n",
            "mcmahon\n",
            "conrad\n",
            "lori\n",
            "haley\n"
          ]
        }
      ]
    }
  ]
}